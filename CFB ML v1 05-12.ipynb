{
 "cells": [
  {
   "cell_type": "markdown",
   "metadata": {},
   "source": [
    "# College Football Machine Learning v1 (2005-2012)"
   ]
  },
  {
   "cell_type": "code",
   "execution_count": 70,
   "metadata": {},
   "outputs": [],
   "source": [
    "#Imports\n",
    "import pandas as pd\n",
    "import numpy as np"
   ]
  },
  {
   "cell_type": "markdown",
   "metadata": {},
   "source": [
    "# Data Load/Analysis"
   ]
  },
  {
   "cell_type": "code",
   "execution_count": 71,
   "metadata": {},
   "outputs": [],
   "source": [
    "data_05 = pd.read_csv('CFB/data/2005/team-game-statistics.csv')"
   ]
  },
  {
   "cell_type": "code",
   "execution_count": 72,
   "metadata": {},
   "outputs": [],
   "source": [
    "data_06 = pd.read_csv('CFB/data/2006/team-game-statistics.csv')"
   ]
  },
  {
   "cell_type": "code",
   "execution_count": 73,
   "metadata": {},
   "outputs": [],
   "source": [
    "data_07 = pd.read_csv('CFB/data/2007/team-game-statistics.csv')"
   ]
  },
  {
   "cell_type": "code",
   "execution_count": 74,
   "metadata": {},
   "outputs": [],
   "source": [
    "data_08 = pd.read_csv('CFB/data/2008/team-game-statistics.csv')"
   ]
  },
  {
   "cell_type": "code",
   "execution_count": 75,
   "metadata": {},
   "outputs": [],
   "source": [
    "data_09 = pd.read_csv('CFB/data/2009/team-game-statistics.csv')"
   ]
  },
  {
   "cell_type": "code",
   "execution_count": 76,
   "metadata": {},
   "outputs": [],
   "source": [
    "data_10 = pd.read_csv('CFB/data/2010/team-game-statistics.csv')"
   ]
  },
  {
   "cell_type": "code",
   "execution_count": 77,
   "metadata": {},
   "outputs": [],
   "source": [
    "data_11 = pd.read_csv('CFB/data/2011/team-game-statistics.csv')"
   ]
  },
  {
   "cell_type": "code",
   "execution_count": 78,
   "metadata": {},
   "outputs": [],
   "source": [
    "data_12 = pd.read_csv('CFB/data/2012/team-game-statistics.csv')"
   ]
  },
  {
   "cell_type": "code",
   "execution_count": 79,
   "metadata": {},
   "outputs": [
    {
     "data": {
      "text/plain": [
       "(12744, 68)"
      ]
     },
     "execution_count": 79,
     "metadata": {},
     "output_type": "execute_result"
    }
   ],
   "source": [
    "game_stat = pd.concat([data_05,data_06,data_07,data_08,data_09,data_10,data_11,data_12],\n",
    "                      ignore_index=True)\n",
    "game_stat.shape"
   ]
  },
  {
   "cell_type": "code",
   "execution_count": 80,
   "metadata": {},
   "outputs": [
    {
     "data": {
      "text/html": [
       "<div>\n",
       "<style scoped>\n",
       "    .dataframe tbody tr th:only-of-type {\n",
       "        vertical-align: middle;\n",
       "    }\n",
       "\n",
       "    .dataframe tbody tr th {\n",
       "        vertical-align: top;\n",
       "    }\n",
       "\n",
       "    .dataframe thead th {\n",
       "        text-align: right;\n",
       "    }\n",
       "</style>\n",
       "<table border=\"1\" class=\"dataframe\">\n",
       "  <thead>\n",
       "    <tr style=\"text-align: right;\">\n",
       "      <th></th>\n",
       "      <th>Team Code</th>\n",
       "      <th>Game Code</th>\n",
       "      <th>Rush Att</th>\n",
       "      <th>Rush Yard</th>\n",
       "      <th>Rush TD</th>\n",
       "      <th>Pass Att</th>\n",
       "      <th>Pass Comp</th>\n",
       "      <th>Pass Yard</th>\n",
       "      <th>Pass TD</th>\n",
       "      <th>Pass Int</th>\n",
       "      <th>...</th>\n",
       "      <th>Time Of Possession</th>\n",
       "      <th>Penalty</th>\n",
       "      <th>Penalty Yard</th>\n",
       "      <th>Third Down Att</th>\n",
       "      <th>Third Down Conv</th>\n",
       "      <th>Fourth Down Att</th>\n",
       "      <th>Fourth Down Conv</th>\n",
       "      <th>Red Zone Att</th>\n",
       "      <th>Red Zone TD</th>\n",
       "      <th>Red Zone Field Goal</th>\n",
       "    </tr>\n",
       "  </thead>\n",
       "  <tbody>\n",
       "    <tr>\n",
       "      <th>0</th>\n",
       "      <td>5</td>\n",
       "      <td>5055920050910</td>\n",
       "      <td>21</td>\n",
       "      <td>23</td>\n",
       "      <td>0</td>\n",
       "      <td>46</td>\n",
       "      <td>26</td>\n",
       "      <td>362</td>\n",
       "      <td>3</td>\n",
       "      <td>0</td>\n",
       "      <td>...</td>\n",
       "      <td>1433</td>\n",
       "      <td>5</td>\n",
       "      <td>42</td>\n",
       "      <td>13</td>\n",
       "      <td>2</td>\n",
       "      <td>3</td>\n",
       "      <td>0</td>\n",
       "      <td>2</td>\n",
       "      <td>1</td>\n",
       "      <td>1</td>\n",
       "    </tr>\n",
       "    <tr>\n",
       "      <th>1</th>\n",
       "      <td>5</td>\n",
       "      <td>5041920050917</td>\n",
       "      <td>39</td>\n",
       "      <td>102</td>\n",
       "      <td>0</td>\n",
       "      <td>43</td>\n",
       "      <td>23</td>\n",
       "      <td>319</td>\n",
       "      <td>2</td>\n",
       "      <td>3</td>\n",
       "      <td>...</td>\n",
       "      <td>2154</td>\n",
       "      <td>8</td>\n",
       "      <td>49</td>\n",
       "      <td>14</td>\n",
       "      <td>7</td>\n",
       "      <td>2</td>\n",
       "      <td>0</td>\n",
       "      <td>5</td>\n",
       "      <td>2</td>\n",
       "      <td>0</td>\n",
       "    </tr>\n",
       "    <tr>\n",
       "      <th>2</th>\n",
       "      <td>5</td>\n",
       "      <td>503000520050924</td>\n",
       "      <td>32</td>\n",
       "      <td>119</td>\n",
       "      <td>1</td>\n",
       "      <td>39</td>\n",
       "      <td>20</td>\n",
       "      <td>406</td>\n",
       "      <td>5</td>\n",
       "      <td>0</td>\n",
       "      <td>...</td>\n",
       "      <td>1764</td>\n",
       "      <td>5</td>\n",
       "      <td>36</td>\n",
       "      <td>15</td>\n",
       "      <td>6</td>\n",
       "      <td>0</td>\n",
       "      <td>0</td>\n",
       "      <td>4</td>\n",
       "      <td>3</td>\n",
       "      <td>1</td>\n",
       "    </tr>\n",
       "    <tr>\n",
       "      <th>3</th>\n",
       "      <td>5</td>\n",
       "      <td>129000520051001</td>\n",
       "      <td>24</td>\n",
       "      <td>90</td>\n",
       "      <td>0</td>\n",
       "      <td>57</td>\n",
       "      <td>30</td>\n",
       "      <td>270</td>\n",
       "      <td>2</td>\n",
       "      <td>3</td>\n",
       "      <td>...</td>\n",
       "      <td>1908</td>\n",
       "      <td>5</td>\n",
       "      <td>50</td>\n",
       "      <td>20</td>\n",
       "      <td>7</td>\n",
       "      <td>1</td>\n",
       "      <td>1</td>\n",
       "      <td>2</td>\n",
       "      <td>0</td>\n",
       "      <td>1</td>\n",
       "    </tr>\n",
       "    <tr>\n",
       "      <th>4</th>\n",
       "      <td>5</td>\n",
       "      <td>5008620051008</td>\n",
       "      <td>36</td>\n",
       "      <td>79</td>\n",
       "      <td>1</td>\n",
       "      <td>33</td>\n",
       "      <td>12</td>\n",
       "      <td>145</td>\n",
       "      <td>0</td>\n",
       "      <td>0</td>\n",
       "      <td>...</td>\n",
       "      <td>1657</td>\n",
       "      <td>9</td>\n",
       "      <td>89</td>\n",
       "      <td>18</td>\n",
       "      <td>3</td>\n",
       "      <td>3</td>\n",
       "      <td>1</td>\n",
       "      <td>5</td>\n",
       "      <td>1</td>\n",
       "      <td>2</td>\n",
       "    </tr>\n",
       "  </tbody>\n",
       "</table>\n",
       "<p>5 rows × 68 columns</p>\n",
       "</div>"
      ],
      "text/plain": [
       "   Team Code        Game Code  Rush Att  Rush Yard  Rush TD  Pass Att  \\\n",
       "0          5    5055920050910        21         23        0        46   \n",
       "1          5    5041920050917        39        102        0        43   \n",
       "2          5  503000520050924        32        119        1        39   \n",
       "3          5  129000520051001        24         90        0        57   \n",
       "4          5    5008620051008        36         79        1        33   \n",
       "\n",
       "   Pass Comp  Pass Yard  Pass TD  Pass Int         ...           \\\n",
       "0         26        362        3         0         ...            \n",
       "1         23        319        2         3         ...            \n",
       "2         20        406        5         0         ...            \n",
       "3         30        270        2         3         ...            \n",
       "4         12        145        0         0         ...            \n",
       "\n",
       "   Time Of Possession  Penalty  Penalty Yard  Third Down Att  Third Down Conv  \\\n",
       "0                1433        5            42              13                2   \n",
       "1                2154        8            49              14                7   \n",
       "2                1764        5            36              15                6   \n",
       "3                1908        5            50              20                7   \n",
       "4                1657        9            89              18                3   \n",
       "\n",
       "   Fourth Down Att  Fourth Down Conv  Red Zone Att  Red Zone TD  \\\n",
       "0                3                 0             2            1   \n",
       "1                2                 0             5            2   \n",
       "2                0                 0             4            3   \n",
       "3                1                 1             2            0   \n",
       "4                3                 1             5            1   \n",
       "\n",
       "   Red Zone Field Goal  \n",
       "0                    1  \n",
       "1                    0  \n",
       "2                    1  \n",
       "3                    1  \n",
       "4                    2  \n",
       "\n",
       "[5 rows x 68 columns]"
      ]
     },
     "execution_count": 80,
     "metadata": {},
     "output_type": "execute_result"
    }
   ],
   "source": [
    "game_stat.head()"
   ]
  },
  {
   "cell_type": "code",
   "execution_count": 81,
   "metadata": {
    "scrolled": true
   },
   "outputs": [
    {
     "data": {
      "text/html": [
       "<div>\n",
       "<style scoped>\n",
       "    .dataframe tbody tr th:only-of-type {\n",
       "        vertical-align: middle;\n",
       "    }\n",
       "\n",
       "    .dataframe tbody tr th {\n",
       "        vertical-align: top;\n",
       "    }\n",
       "\n",
       "    .dataframe thead th {\n",
       "        text-align: right;\n",
       "    }\n",
       "</style>\n",
       "<table border=\"1\" class=\"dataframe\">\n",
       "  <thead>\n",
       "    <tr style=\"text-align: right;\">\n",
       "      <th></th>\n",
       "      <th>Team Code</th>\n",
       "      <th>Game Code</th>\n",
       "      <th>Rush Att</th>\n",
       "      <th>Rush Yard</th>\n",
       "      <th>Rush TD</th>\n",
       "      <th>Pass Att</th>\n",
       "      <th>Pass Comp</th>\n",
       "      <th>Pass Yard</th>\n",
       "      <th>Pass TD</th>\n",
       "      <th>Pass Int</th>\n",
       "      <th>...</th>\n",
       "      <th>Time Of Possession</th>\n",
       "      <th>Penalty</th>\n",
       "      <th>Penalty Yard</th>\n",
       "      <th>Third Down Att</th>\n",
       "      <th>Third Down Conv</th>\n",
       "      <th>Fourth Down Att</th>\n",
       "      <th>Fourth Down Conv</th>\n",
       "      <th>Red Zone Att</th>\n",
       "      <th>Red Zone TD</th>\n",
       "      <th>Red Zone Field Goal</th>\n",
       "    </tr>\n",
       "  </thead>\n",
       "  <tbody>\n",
       "    <tr>\n",
       "      <th>count</th>\n",
       "      <td>12744.000000</td>\n",
       "      <td>1.274400e+04</td>\n",
       "      <td>12744.000000</td>\n",
       "      <td>12744.000000</td>\n",
       "      <td>12744.000000</td>\n",
       "      <td>12744.000000</td>\n",
       "      <td>12744.000000</td>\n",
       "      <td>12744.000000</td>\n",
       "      <td>12744.000000</td>\n",
       "      <td>12744.000000</td>\n",
       "      <td>...</td>\n",
       "      <td>12744.000000</td>\n",
       "      <td>12744.000000</td>\n",
       "      <td>12744.000000</td>\n",
       "      <td>12744.000000</td>\n",
       "      <td>12744.000000</td>\n",
       "      <td>12744.000000</td>\n",
       "      <td>12744.000000</td>\n",
       "      <td>12744.000000</td>\n",
       "      <td>12744.000000</td>\n",
       "      <td>12744.000000</td>\n",
       "    </tr>\n",
       "    <tr>\n",
       "      <th>mean</th>\n",
       "      <td>434.334903</td>\n",
       "      <td>4.393443e+14</td>\n",
       "      <td>37.230383</td>\n",
       "      <td>154.518989</td>\n",
       "      <td>1.571014</td>\n",
       "      <td>31.407015</td>\n",
       "      <td>18.528876</td>\n",
       "      <td>220.922003</td>\n",
       "      <td>1.541196</td>\n",
       "      <td>0.983443</td>\n",
       "      <td>...</td>\n",
       "      <td>1800.179614</td>\n",
       "      <td>6.118409</td>\n",
       "      <td>52.454253</td>\n",
       "      <td>14.211158</td>\n",
       "      <td>5.596830</td>\n",
       "      <td>1.471438</td>\n",
       "      <td>0.736425</td>\n",
       "      <td>3.684557</td>\n",
       "      <td>2.195543</td>\n",
       "      <td>0.799278</td>\n",
       "    </tr>\n",
       "    <tr>\n",
       "      <th>std</th>\n",
       "      <td>251.001174</td>\n",
       "      <td>2.630027e+14</td>\n",
       "      <td>9.913340</td>\n",
       "      <td>88.581660</td>\n",
       "      <td>1.459483</td>\n",
       "      <td>10.606832</td>\n",
       "      <td>7.379030</td>\n",
       "      <td>94.376015</td>\n",
       "      <td>1.322227</td>\n",
       "      <td>1.038742</td>\n",
       "      <td>...</td>\n",
       "      <td>260.044982</td>\n",
       "      <td>2.826850</td>\n",
       "      <td>26.629200</td>\n",
       "      <td>2.858520</td>\n",
       "      <td>2.476706</td>\n",
       "      <td>1.279002</td>\n",
       "      <td>0.907460</td>\n",
       "      <td>1.869180</td>\n",
       "      <td>1.594070</td>\n",
       "      <td>0.877427</td>\n",
       "    </tr>\n",
       "    <tr>\n",
       "      <th>min</th>\n",
       "      <td>5.000000</td>\n",
       "      <td>5.004720e+12</td>\n",
       "      <td>7.000000</td>\n",
       "      <td>-65.000000</td>\n",
       "      <td>0.000000</td>\n",
       "      <td>0.000000</td>\n",
       "      <td>0.000000</td>\n",
       "      <td>-3.000000</td>\n",
       "      <td>0.000000</td>\n",
       "      <td>0.000000</td>\n",
       "      <td>...</td>\n",
       "      <td>866.000000</td>\n",
       "      <td>0.000000</td>\n",
       "      <td>0.000000</td>\n",
       "      <td>4.000000</td>\n",
       "      <td>0.000000</td>\n",
       "      <td>0.000000</td>\n",
       "      <td>0.000000</td>\n",
       "      <td>0.000000</td>\n",
       "      <td>0.000000</td>\n",
       "      <td>0.000000</td>\n",
       "    </tr>\n",
       "    <tr>\n",
       "      <th>25%</th>\n",
       "      <td>234.000000</td>\n",
       "      <td>2.310716e+14</td>\n",
       "      <td>30.000000</td>\n",
       "      <td>90.000000</td>\n",
       "      <td>0.000000</td>\n",
       "      <td>24.000000</td>\n",
       "      <td>13.750000</td>\n",
       "      <td>153.000000</td>\n",
       "      <td>1.000000</td>\n",
       "      <td>0.000000</td>\n",
       "      <td>...</td>\n",
       "      <td>1623.000000</td>\n",
       "      <td>4.000000</td>\n",
       "      <td>34.000000</td>\n",
       "      <td>12.000000</td>\n",
       "      <td>4.000000</td>\n",
       "      <td>1.000000</td>\n",
       "      <td>0.000000</td>\n",
       "      <td>2.000000</td>\n",
       "      <td>1.000000</td>\n",
       "      <td>0.000000</td>\n",
       "    </tr>\n",
       "    <tr>\n",
       "      <th>50%</th>\n",
       "      <td>457.000000</td>\n",
       "      <td>4.630417e+14</td>\n",
       "      <td>37.000000</td>\n",
       "      <td>143.000000</td>\n",
       "      <td>1.000000</td>\n",
       "      <td>31.000000</td>\n",
       "      <td>18.000000</td>\n",
       "      <td>215.000000</td>\n",
       "      <td>1.000000</td>\n",
       "      <td>1.000000</td>\n",
       "      <td>...</td>\n",
       "      <td>1800.000000</td>\n",
       "      <td>6.000000</td>\n",
       "      <td>50.000000</td>\n",
       "      <td>14.000000</td>\n",
       "      <td>5.000000</td>\n",
       "      <td>1.000000</td>\n",
       "      <td>1.000000</td>\n",
       "      <td>4.000000</td>\n",
       "      <td>2.000000</td>\n",
       "      <td>1.000000</td>\n",
       "    </tr>\n",
       "    <tr>\n",
       "      <th>75%</th>\n",
       "      <td>664.000000</td>\n",
       "      <td>6.700288e+14</td>\n",
       "      <td>44.000000</td>\n",
       "      <td>208.000000</td>\n",
       "      <td>2.000000</td>\n",
       "      <td>38.000000</td>\n",
       "      <td>23.000000</td>\n",
       "      <td>278.000000</td>\n",
       "      <td>2.000000</td>\n",
       "      <td>2.000000</td>\n",
       "      <td>...</td>\n",
       "      <td>1976.000000</td>\n",
       "      <td>8.000000</td>\n",
       "      <td>69.000000</td>\n",
       "      <td>16.000000</td>\n",
       "      <td>7.000000</td>\n",
       "      <td>2.000000</td>\n",
       "      <td>1.000000</td>\n",
       "      <td>5.000000</td>\n",
       "      <td>3.000000</td>\n",
       "      <td>1.000000</td>\n",
       "    </tr>\n",
       "    <tr>\n",
       "      <th>max</th>\n",
       "      <td>2915.000000</td>\n",
       "      <td>2.915080e+15</td>\n",
       "      <td>86.000000</td>\n",
       "      <td>604.000000</td>\n",
       "      <td>9.000000</td>\n",
       "      <td>80.000000</td>\n",
       "      <td>58.000000</td>\n",
       "      <td>669.000000</td>\n",
       "      <td>9.000000</td>\n",
       "      <td>7.000000</td>\n",
       "      <td>...</td>\n",
       "      <td>3209.000000</td>\n",
       "      <td>20.000000</td>\n",
       "      <td>187.000000</td>\n",
       "      <td>27.000000</td>\n",
       "      <td>16.000000</td>\n",
       "      <td>9.000000</td>\n",
       "      <td>7.000000</td>\n",
       "      <td>11.000000</td>\n",
       "      <td>10.000000</td>\n",
       "      <td>6.000000</td>\n",
       "    </tr>\n",
       "  </tbody>\n",
       "</table>\n",
       "<p>8 rows × 68 columns</p>\n",
       "</div>"
      ],
      "text/plain": [
       "          Team Code     Game Code      Rush Att     Rush Yard       Rush TD  \\\n",
       "count  12744.000000  1.274400e+04  12744.000000  12744.000000  12744.000000   \n",
       "mean     434.334903  4.393443e+14     37.230383    154.518989      1.571014   \n",
       "std      251.001174  2.630027e+14      9.913340     88.581660      1.459483   \n",
       "min        5.000000  5.004720e+12      7.000000    -65.000000      0.000000   \n",
       "25%      234.000000  2.310716e+14     30.000000     90.000000      0.000000   \n",
       "50%      457.000000  4.630417e+14     37.000000    143.000000      1.000000   \n",
       "75%      664.000000  6.700288e+14     44.000000    208.000000      2.000000   \n",
       "max     2915.000000  2.915080e+15     86.000000    604.000000      9.000000   \n",
       "\n",
       "           Pass Att     Pass Comp     Pass Yard       Pass TD      Pass Int  \\\n",
       "count  12744.000000  12744.000000  12744.000000  12744.000000  12744.000000   \n",
       "mean      31.407015     18.528876    220.922003      1.541196      0.983443   \n",
       "std       10.606832      7.379030     94.376015      1.322227      1.038742   \n",
       "min        0.000000      0.000000     -3.000000      0.000000      0.000000   \n",
       "25%       24.000000     13.750000    153.000000      1.000000      0.000000   \n",
       "50%       31.000000     18.000000    215.000000      1.000000      1.000000   \n",
       "75%       38.000000     23.000000    278.000000      2.000000      2.000000   \n",
       "max       80.000000     58.000000    669.000000      9.000000      7.000000   \n",
       "\n",
       "              ...           Time Of Possession       Penalty  Penalty Yard  \\\n",
       "count         ...                 12744.000000  12744.000000  12744.000000   \n",
       "mean          ...                  1800.179614      6.118409     52.454253   \n",
       "std           ...                   260.044982      2.826850     26.629200   \n",
       "min           ...                   866.000000      0.000000      0.000000   \n",
       "25%           ...                  1623.000000      4.000000     34.000000   \n",
       "50%           ...                  1800.000000      6.000000     50.000000   \n",
       "75%           ...                  1976.000000      8.000000     69.000000   \n",
       "max           ...                  3209.000000     20.000000    187.000000   \n",
       "\n",
       "       Third Down Att  Third Down Conv  Fourth Down Att  Fourth Down Conv  \\\n",
       "count    12744.000000     12744.000000     12744.000000      12744.000000   \n",
       "mean        14.211158         5.596830         1.471438          0.736425   \n",
       "std          2.858520         2.476706         1.279002          0.907460   \n",
       "min          4.000000         0.000000         0.000000          0.000000   \n",
       "25%         12.000000         4.000000         1.000000          0.000000   \n",
       "50%         14.000000         5.000000         1.000000          1.000000   \n",
       "75%         16.000000         7.000000         2.000000          1.000000   \n",
       "max         27.000000        16.000000         9.000000          7.000000   \n",
       "\n",
       "       Red Zone Att   Red Zone TD  Red Zone Field Goal  \n",
       "count  12744.000000  12744.000000         12744.000000  \n",
       "mean       3.684557      2.195543             0.799278  \n",
       "std        1.869180      1.594070             0.877427  \n",
       "min        0.000000      0.000000             0.000000  \n",
       "25%        2.000000      1.000000             0.000000  \n",
       "50%        4.000000      2.000000             1.000000  \n",
       "75%        5.000000      3.000000             1.000000  \n",
       "max       11.000000     10.000000             6.000000  \n",
       "\n",
       "[8 rows x 68 columns]"
      ]
     },
     "execution_count": 81,
     "metadata": {},
     "output_type": "execute_result"
    }
   ],
   "source": [
    "game_stat.describe()"
   ]
  },
  {
   "cell_type": "markdown",
   "metadata": {},
   "source": [
    "# Data Prep"
   ]
  },
  {
   "cell_type": "code",
   "execution_count": 82,
   "metadata": {},
   "outputs": [],
   "source": [
    "#game_stat = game_stat.sort_values(by=['Team Code'])\n",
    "\n",
    "# Sorting by team decreased the performance"
   ]
  },
  {
   "cell_type": "code",
   "execution_count": 83,
   "metadata": {},
   "outputs": [],
   "source": [
    "game_stat['Final score'] = (3*game_stat['Field Goal Made'])+(2*game_stat['Def 2XP Made'])\n"
   ]
  },
  {
   "cell_type": "code",
   "execution_count": 84,
   "metadata": {},
   "outputs": [],
   "source": [
    "game_stat['Final score'] = game_stat['Final score'] + (6*game_stat['Kickoff Ret TD'])+(2*game_stat['Off 2XP Made'])"
   ]
  },
  {
   "cell_type": "code",
   "execution_count": 85,
   "metadata": {},
   "outputs": [],
   "source": [
    "game_stat['Final score']= game_stat['Final score'] + (6*game_stat['Fum Ret TD'])+(6*game_stat['Pass TD'])"
   ]
  },
  {
   "cell_type": "code",
   "execution_count": 86,
   "metadata": {},
   "outputs": [],
   "source": [
    "game_stat['Final score']= game_stat['Final score']+(6*game_stat['Punt Ret TD'])+(6*game_stat['Int Ret TD'])+(6*game_stat['Rush TD'])"
   ]
  },
  {
   "cell_type": "code",
   "execution_count": 87,
   "metadata": {},
   "outputs": [],
   "source": [
    "game_stat['Final score']=game_stat['Final score']+game_stat['Off XP Kick Made']"
   ]
  },
  {
   "cell_type": "code",
   "execution_count": 88,
   "metadata": {
    "scrolled": true
   },
   "outputs": [
    {
     "data": {
      "text/html": [
       "<div>\n",
       "<style scoped>\n",
       "    .dataframe tbody tr th:only-of-type {\n",
       "        vertical-align: middle;\n",
       "    }\n",
       "\n",
       "    .dataframe tbody tr th {\n",
       "        vertical-align: top;\n",
       "    }\n",
       "\n",
       "    .dataframe thead th {\n",
       "        text-align: right;\n",
       "    }\n",
       "</style>\n",
       "<table border=\"1\" class=\"dataframe\">\n",
       "  <thead>\n",
       "    <tr style=\"text-align: right;\">\n",
       "      <th></th>\n",
       "      <th>Team Code</th>\n",
       "      <th>Game Code</th>\n",
       "      <th>Rush Att</th>\n",
       "      <th>Rush Yard</th>\n",
       "      <th>Rush TD</th>\n",
       "      <th>Pass Att</th>\n",
       "      <th>Pass Comp</th>\n",
       "      <th>Pass Yard</th>\n",
       "      <th>Pass TD</th>\n",
       "      <th>Pass Int</th>\n",
       "      <th>...</th>\n",
       "      <th>Penalty</th>\n",
       "      <th>Penalty Yard</th>\n",
       "      <th>Third Down Att</th>\n",
       "      <th>Third Down Conv</th>\n",
       "      <th>Fourth Down Att</th>\n",
       "      <th>Fourth Down Conv</th>\n",
       "      <th>Red Zone Att</th>\n",
       "      <th>Red Zone TD</th>\n",
       "      <th>Red Zone Field Goal</th>\n",
       "      <th>Final score</th>\n",
       "    </tr>\n",
       "  </thead>\n",
       "  <tbody>\n",
       "    <tr>\n",
       "      <th>0</th>\n",
       "      <td>5</td>\n",
       "      <td>5055920050910</td>\n",
       "      <td>21</td>\n",
       "      <td>23</td>\n",
       "      <td>0</td>\n",
       "      <td>46</td>\n",
       "      <td>26</td>\n",
       "      <td>362</td>\n",
       "      <td>3</td>\n",
       "      <td>0</td>\n",
       "      <td>...</td>\n",
       "      <td>5</td>\n",
       "      <td>42</td>\n",
       "      <td>13</td>\n",
       "      <td>2</td>\n",
       "      <td>3</td>\n",
       "      <td>0</td>\n",
       "      <td>2</td>\n",
       "      <td>1</td>\n",
       "      <td>1</td>\n",
       "      <td>24</td>\n",
       "    </tr>\n",
       "    <tr>\n",
       "      <th>1</th>\n",
       "      <td>5</td>\n",
       "      <td>5041920050917</td>\n",
       "      <td>39</td>\n",
       "      <td>102</td>\n",
       "      <td>0</td>\n",
       "      <td>43</td>\n",
       "      <td>23</td>\n",
       "      <td>319</td>\n",
       "      <td>2</td>\n",
       "      <td>3</td>\n",
       "      <td>...</td>\n",
       "      <td>8</td>\n",
       "      <td>49</td>\n",
       "      <td>14</td>\n",
       "      <td>7</td>\n",
       "      <td>2</td>\n",
       "      <td>0</td>\n",
       "      <td>5</td>\n",
       "      <td>2</td>\n",
       "      <td>0</td>\n",
       "      <td>17</td>\n",
       "    </tr>\n",
       "    <tr>\n",
       "      <th>2</th>\n",
       "      <td>5</td>\n",
       "      <td>503000520050924</td>\n",
       "      <td>32</td>\n",
       "      <td>119</td>\n",
       "      <td>1</td>\n",
       "      <td>39</td>\n",
       "      <td>20</td>\n",
       "      <td>406</td>\n",
       "      <td>5</td>\n",
       "      <td>0</td>\n",
       "      <td>...</td>\n",
       "      <td>5</td>\n",
       "      <td>36</td>\n",
       "      <td>15</td>\n",
       "      <td>6</td>\n",
       "      <td>0</td>\n",
       "      <td>0</td>\n",
       "      <td>4</td>\n",
       "      <td>3</td>\n",
       "      <td>1</td>\n",
       "      <td>48</td>\n",
       "    </tr>\n",
       "    <tr>\n",
       "      <th>3</th>\n",
       "      <td>5</td>\n",
       "      <td>129000520051001</td>\n",
       "      <td>24</td>\n",
       "      <td>90</td>\n",
       "      <td>0</td>\n",
       "      <td>57</td>\n",
       "      <td>30</td>\n",
       "      <td>270</td>\n",
       "      <td>2</td>\n",
       "      <td>3</td>\n",
       "      <td>...</td>\n",
       "      <td>5</td>\n",
       "      <td>50</td>\n",
       "      <td>20</td>\n",
       "      <td>7</td>\n",
       "      <td>1</td>\n",
       "      <td>1</td>\n",
       "      <td>2</td>\n",
       "      <td>0</td>\n",
       "      <td>1</td>\n",
       "      <td>17</td>\n",
       "    </tr>\n",
       "    <tr>\n",
       "      <th>4</th>\n",
       "      <td>5</td>\n",
       "      <td>5008620051008</td>\n",
       "      <td>36</td>\n",
       "      <td>79</td>\n",
       "      <td>1</td>\n",
       "      <td>33</td>\n",
       "      <td>12</td>\n",
       "      <td>145</td>\n",
       "      <td>0</td>\n",
       "      <td>0</td>\n",
       "      <td>...</td>\n",
       "      <td>9</td>\n",
       "      <td>89</td>\n",
       "      <td>18</td>\n",
       "      <td>3</td>\n",
       "      <td>3</td>\n",
       "      <td>1</td>\n",
       "      <td>5</td>\n",
       "      <td>1</td>\n",
       "      <td>2</td>\n",
       "      <td>13</td>\n",
       "    </tr>\n",
       "  </tbody>\n",
       "</table>\n",
       "<p>5 rows × 69 columns</p>\n",
       "</div>"
      ],
      "text/plain": [
       "   Team Code        Game Code  Rush Att  Rush Yard  Rush TD  Pass Att  \\\n",
       "0          5    5055920050910        21         23        0        46   \n",
       "1          5    5041920050917        39        102        0        43   \n",
       "2          5  503000520050924        32        119        1        39   \n",
       "3          5  129000520051001        24         90        0        57   \n",
       "4          5    5008620051008        36         79        1        33   \n",
       "\n",
       "   Pass Comp  Pass Yard  Pass TD  Pass Int     ...       Penalty  \\\n",
       "0         26        362        3         0     ...             5   \n",
       "1         23        319        2         3     ...             8   \n",
       "2         20        406        5         0     ...             5   \n",
       "3         30        270        2         3     ...             5   \n",
       "4         12        145        0         0     ...             9   \n",
       "\n",
       "   Penalty Yard  Third Down Att  Third Down Conv  Fourth Down Att  \\\n",
       "0            42              13                2                3   \n",
       "1            49              14                7                2   \n",
       "2            36              15                6                0   \n",
       "3            50              20                7                1   \n",
       "4            89              18                3                3   \n",
       "\n",
       "   Fourth Down Conv  Red Zone Att  Red Zone TD  Red Zone Field Goal  \\\n",
       "0                 0             2            1                    1   \n",
       "1                 0             5            2                    0   \n",
       "2                 0             4            3                    1   \n",
       "3                 1             2            0                    1   \n",
       "4                 1             5            1                    2   \n",
       "\n",
       "   Final score  \n",
       "0           24  \n",
       "1           17  \n",
       "2           48  \n",
       "3           17  \n",
       "4           13  \n",
       "\n",
       "[5 rows x 69 columns]"
      ]
     },
     "execution_count": 88,
     "metadata": {},
     "output_type": "execute_result"
    }
   ],
   "source": [
    "game_stat.head()"
   ]
  },
  {
   "cell_type": "code",
   "execution_count": 89,
   "metadata": {},
   "outputs": [],
   "source": [
    "game_stat.loc[game_stat['Team Code'] == game_stat['Team Code'].shift(periods=-1), 'Predict Score'] = game_stat['Final score'].shift(periods=-1)\n",
    "game_stat.loc[game_stat['Team Code'] != game_stat['Team Code'].shift(periods=-1), 'Predict Score'] = np.NaN"
   ]
  },
  {
   "cell_type": "code",
   "execution_count": 90,
   "metadata": {
    "scrolled": true
   },
   "outputs": [
    {
     "data": {
      "text/html": [
       "<div>\n",
       "<style scoped>\n",
       "    .dataframe tbody tr th:only-of-type {\n",
       "        vertical-align: middle;\n",
       "    }\n",
       "\n",
       "    .dataframe tbody tr th {\n",
       "        vertical-align: top;\n",
       "    }\n",
       "\n",
       "    .dataframe thead th {\n",
       "        text-align: right;\n",
       "    }\n",
       "</style>\n",
       "<table border=\"1\" class=\"dataframe\">\n",
       "  <thead>\n",
       "    <tr style=\"text-align: right;\">\n",
       "      <th></th>\n",
       "      <th>Team Code</th>\n",
       "      <th>Game Code</th>\n",
       "      <th>Rush Att</th>\n",
       "      <th>Rush Yard</th>\n",
       "      <th>Rush TD</th>\n",
       "      <th>Pass Att</th>\n",
       "      <th>Pass Comp</th>\n",
       "      <th>Pass Yard</th>\n",
       "      <th>Pass TD</th>\n",
       "      <th>Pass Int</th>\n",
       "      <th>...</th>\n",
       "      <th>Penalty Yard</th>\n",
       "      <th>Third Down Att</th>\n",
       "      <th>Third Down Conv</th>\n",
       "      <th>Fourth Down Att</th>\n",
       "      <th>Fourth Down Conv</th>\n",
       "      <th>Red Zone Att</th>\n",
       "      <th>Red Zone TD</th>\n",
       "      <th>Red Zone Field Goal</th>\n",
       "      <th>Final score</th>\n",
       "      <th>Predict Score</th>\n",
       "    </tr>\n",
       "  </thead>\n",
       "  <tbody>\n",
       "    <tr>\n",
       "      <th>0</th>\n",
       "      <td>5</td>\n",
       "      <td>5055920050910</td>\n",
       "      <td>21</td>\n",
       "      <td>23</td>\n",
       "      <td>0</td>\n",
       "      <td>46</td>\n",
       "      <td>26</td>\n",
       "      <td>362</td>\n",
       "      <td>3</td>\n",
       "      <td>0</td>\n",
       "      <td>...</td>\n",
       "      <td>42</td>\n",
       "      <td>13</td>\n",
       "      <td>2</td>\n",
       "      <td>3</td>\n",
       "      <td>0</td>\n",
       "      <td>2</td>\n",
       "      <td>1</td>\n",
       "      <td>1</td>\n",
       "      <td>24</td>\n",
       "      <td>17.000000</td>\n",
       "    </tr>\n",
       "    <tr>\n",
       "      <th>1</th>\n",
       "      <td>5</td>\n",
       "      <td>5041920050917</td>\n",
       "      <td>39</td>\n",
       "      <td>102</td>\n",
       "      <td>0</td>\n",
       "      <td>43</td>\n",
       "      <td>23</td>\n",
       "      <td>319</td>\n",
       "      <td>2</td>\n",
       "      <td>3</td>\n",
       "      <td>...</td>\n",
       "      <td>49</td>\n",
       "      <td>14</td>\n",
       "      <td>7</td>\n",
       "      <td>2</td>\n",
       "      <td>0</td>\n",
       "      <td>5</td>\n",
       "      <td>2</td>\n",
       "      <td>0</td>\n",
       "      <td>17</td>\n",
       "      <td>48.000000</td>\n",
       "    </tr>\n",
       "    <tr>\n",
       "      <th>2</th>\n",
       "      <td>5</td>\n",
       "      <td>503000520050924</td>\n",
       "      <td>32</td>\n",
       "      <td>119</td>\n",
       "      <td>1</td>\n",
       "      <td>39</td>\n",
       "      <td>20</td>\n",
       "      <td>406</td>\n",
       "      <td>5</td>\n",
       "      <td>0</td>\n",
       "      <td>...</td>\n",
       "      <td>36</td>\n",
       "      <td>15</td>\n",
       "      <td>6</td>\n",
       "      <td>0</td>\n",
       "      <td>0</td>\n",
       "      <td>4</td>\n",
       "      <td>3</td>\n",
       "      <td>1</td>\n",
       "      <td>48</td>\n",
       "      <td>17.000000</td>\n",
       "    </tr>\n",
       "    <tr>\n",
       "      <th>3</th>\n",
       "      <td>5</td>\n",
       "      <td>129000520051001</td>\n",
       "      <td>24</td>\n",
       "      <td>90</td>\n",
       "      <td>0</td>\n",
       "      <td>57</td>\n",
       "      <td>30</td>\n",
       "      <td>270</td>\n",
       "      <td>2</td>\n",
       "      <td>3</td>\n",
       "      <td>...</td>\n",
       "      <td>50</td>\n",
       "      <td>20</td>\n",
       "      <td>7</td>\n",
       "      <td>1</td>\n",
       "      <td>1</td>\n",
       "      <td>2</td>\n",
       "      <td>0</td>\n",
       "      <td>1</td>\n",
       "      <td>17</td>\n",
       "      <td>13.000000</td>\n",
       "    </tr>\n",
       "    <tr>\n",
       "      <th>4</th>\n",
       "      <td>5</td>\n",
       "      <td>5008620051008</td>\n",
       "      <td>36</td>\n",
       "      <td>79</td>\n",
       "      <td>1</td>\n",
       "      <td>33</td>\n",
       "      <td>12</td>\n",
       "      <td>145</td>\n",
       "      <td>0</td>\n",
       "      <td>0</td>\n",
       "      <td>...</td>\n",
       "      <td>89</td>\n",
       "      <td>18</td>\n",
       "      <td>3</td>\n",
       "      <td>3</td>\n",
       "      <td>1</td>\n",
       "      <td>5</td>\n",
       "      <td>1</td>\n",
       "      <td>2</td>\n",
       "      <td>13</td>\n",
       "      <td>23.000000</td>\n",
       "    </tr>\n",
       "    <tr>\n",
       "      <th>5</th>\n",
       "      <td>5</td>\n",
       "      <td>5041420051015</td>\n",
       "      <td>33</td>\n",
       "      <td>160</td>\n",
       "      <td>2</td>\n",
       "      <td>44</td>\n",
       "      <td>22</td>\n",
       "      <td>217</td>\n",
       "      <td>1</td>\n",
       "      <td>2</td>\n",
       "      <td>...</td>\n",
       "      <td>108</td>\n",
       "      <td>17</td>\n",
       "      <td>5</td>\n",
       "      <td>2</td>\n",
       "      <td>1</td>\n",
       "      <td>5</td>\n",
       "      <td>3</td>\n",
       "      <td>1</td>\n",
       "      <td>23</td>\n",
       "      <td>0.000000</td>\n",
       "    </tr>\n",
       "    <tr>\n",
       "      <th>6</th>\n",
       "      <td>5</td>\n",
       "      <td>725000520051022</td>\n",
       "      <td>22</td>\n",
       "      <td>44</td>\n",
       "      <td>0</td>\n",
       "      <td>45</td>\n",
       "      <td>21</td>\n",
       "      <td>188</td>\n",
       "      <td>0</td>\n",
       "      <td>1</td>\n",
       "      <td>...</td>\n",
       "      <td>10</td>\n",
       "      <td>17</td>\n",
       "      <td>5</td>\n",
       "      <td>3</td>\n",
       "      <td>1</td>\n",
       "      <td>0</td>\n",
       "      <td>0</td>\n",
       "      <td>0</td>\n",
       "      <td>0</td>\n",
       "      <td>24.000000</td>\n",
       "    </tr>\n",
       "    <tr>\n",
       "      <th>7</th>\n",
       "      <td>5</td>\n",
       "      <td>5007120051029</td>\n",
       "      <td>42</td>\n",
       "      <td>153</td>\n",
       "      <td>2</td>\n",
       "      <td>29</td>\n",
       "      <td>15</td>\n",
       "      <td>205</td>\n",
       "      <td>1</td>\n",
       "      <td>0</td>\n",
       "      <td>...</td>\n",
       "      <td>84</td>\n",
       "      <td>16</td>\n",
       "      <td>7</td>\n",
       "      <td>1</td>\n",
       "      <td>1</td>\n",
       "      <td>4</td>\n",
       "      <td>3</td>\n",
       "      <td>1</td>\n",
       "      <td>24</td>\n",
       "      <td>17.000000</td>\n",
       "    </tr>\n",
       "    <tr>\n",
       "      <th>8</th>\n",
       "      <td>5</td>\n",
       "      <td>5004720051105</td>\n",
       "      <td>28</td>\n",
       "      <td>84</td>\n",
       "      <td>0</td>\n",
       "      <td>44</td>\n",
       "      <td>22</td>\n",
       "      <td>285</td>\n",
       "      <td>2</td>\n",
       "      <td>1</td>\n",
       "      <td>...</td>\n",
       "      <td>80</td>\n",
       "      <td>17</td>\n",
       "      <td>6</td>\n",
       "      <td>2</td>\n",
       "      <td>1</td>\n",
       "      <td>3</td>\n",
       "      <td>1</td>\n",
       "      <td>1</td>\n",
       "      <td>17</td>\n",
       "      <td>27.000000</td>\n",
       "    </tr>\n",
       "    <tr>\n",
       "      <th>9</th>\n",
       "      <td>5</td>\n",
       "      <td>519000520051115</td>\n",
       "      <td>44</td>\n",
       "      <td>228</td>\n",
       "      <td>2</td>\n",
       "      <td>32</td>\n",
       "      <td>22</td>\n",
       "      <td>270</td>\n",
       "      <td>1</td>\n",
       "      <td>1</td>\n",
       "      <td>...</td>\n",
       "      <td>85</td>\n",
       "      <td>17</td>\n",
       "      <td>6</td>\n",
       "      <td>2</td>\n",
       "      <td>2</td>\n",
       "      <td>6</td>\n",
       "      <td>2</td>\n",
       "      <td>2</td>\n",
       "      <td>27</td>\n",
       "      <td>35.000000</td>\n",
       "    </tr>\n",
       "    <tr>\n",
       "      <th>10</th>\n",
       "      <td>5</td>\n",
       "      <td>331000520051124</td>\n",
       "      <td>46</td>\n",
       "      <td>161</td>\n",
       "      <td>1</td>\n",
       "      <td>18</td>\n",
       "      <td>7</td>\n",
       "      <td>66</td>\n",
       "      <td>2</td>\n",
       "      <td>0</td>\n",
       "      <td>...</td>\n",
       "      <td>52</td>\n",
       "      <td>17</td>\n",
       "      <td>5</td>\n",
       "      <td>6</td>\n",
       "      <td>2</td>\n",
       "      <td>5</td>\n",
       "      <td>3</td>\n",
       "      <td>0</td>\n",
       "      <td>35</td>\n",
       "      <td>31.000000</td>\n",
       "    </tr>\n",
       "    <tr>\n",
       "      <th>11</th>\n",
       "      <td>5</td>\n",
       "      <td>5050320051201</td>\n",
       "      <td>32</td>\n",
       "      <td>105</td>\n",
       "      <td>3</td>\n",
       "      <td>52</td>\n",
       "      <td>30</td>\n",
       "      <td>413</td>\n",
       "      <td>1</td>\n",
       "      <td>1</td>\n",
       "      <td>...</td>\n",
       "      <td>70</td>\n",
       "      <td>14</td>\n",
       "      <td>6</td>\n",
       "      <td>1</td>\n",
       "      <td>1</td>\n",
       "      <td>3</td>\n",
       "      <td>3</td>\n",
       "      <td>0</td>\n",
       "      <td>31</td>\n",
       "      <td>31.000000</td>\n",
       "    </tr>\n",
       "    <tr>\n",
       "      <th>12</th>\n",
       "      <td>5</td>\n",
       "      <td>404000520051226</td>\n",
       "      <td>23</td>\n",
       "      <td>47</td>\n",
       "      <td>0</td>\n",
       "      <td>59</td>\n",
       "      <td>34</td>\n",
       "      <td>455</td>\n",
       "      <td>4</td>\n",
       "      <td>0</td>\n",
       "      <td>...</td>\n",
       "      <td>61</td>\n",
       "      <td>18</td>\n",
       "      <td>8</td>\n",
       "      <td>1</td>\n",
       "      <td>0</td>\n",
       "      <td>2</td>\n",
       "      <td>2</td>\n",
       "      <td>0</td>\n",
       "      <td>31</td>\n",
       "      <td>27.039334</td>\n",
       "    </tr>\n",
       "    <tr>\n",
       "      <th>13</th>\n",
       "      <td>8</td>\n",
       "      <td>419000820050903</td>\n",
       "      <td>37</td>\n",
       "      <td>133</td>\n",
       "      <td>2</td>\n",
       "      <td>25</td>\n",
       "      <td>17</td>\n",
       "      <td>212</td>\n",
       "      <td>1</td>\n",
       "      <td>1</td>\n",
       "      <td>...</td>\n",
       "      <td>50</td>\n",
       "      <td>11</td>\n",
       "      <td>4</td>\n",
       "      <td>1</td>\n",
       "      <td>0</td>\n",
       "      <td>5</td>\n",
       "      <td>3</td>\n",
       "      <td>1</td>\n",
       "      <td>24</td>\n",
       "      <td>30.000000</td>\n",
       "    </tr>\n",
       "  </tbody>\n",
       "</table>\n",
       "<p>14 rows × 70 columns</p>\n",
       "</div>"
      ],
      "text/plain": [
       "    Team Code        Game Code  Rush Att  Rush Yard  Rush TD  Pass Att  \\\n",
       "0           5    5055920050910        21         23        0        46   \n",
       "1           5    5041920050917        39        102        0        43   \n",
       "2           5  503000520050924        32        119        1        39   \n",
       "3           5  129000520051001        24         90        0        57   \n",
       "4           5    5008620051008        36         79        1        33   \n",
       "5           5    5041420051015        33        160        2        44   \n",
       "6           5  725000520051022        22         44        0        45   \n",
       "7           5    5007120051029        42        153        2        29   \n",
       "8           5    5004720051105        28         84        0        44   \n",
       "9           5  519000520051115        44        228        2        32   \n",
       "10          5  331000520051124        46        161        1        18   \n",
       "11          5    5050320051201        32        105        3        52   \n",
       "12          5  404000520051226        23         47        0        59   \n",
       "13          8  419000820050903        37        133        2        25   \n",
       "\n",
       "    Pass Comp  Pass Yard  Pass TD  Pass Int      ...        Penalty Yard  \\\n",
       "0          26        362        3         0      ...                  42   \n",
       "1          23        319        2         3      ...                  49   \n",
       "2          20        406        5         0      ...                  36   \n",
       "3          30        270        2         3      ...                  50   \n",
       "4          12        145        0         0      ...                  89   \n",
       "5          22        217        1         2      ...                 108   \n",
       "6          21        188        0         1      ...                  10   \n",
       "7          15        205        1         0      ...                  84   \n",
       "8          22        285        2         1      ...                  80   \n",
       "9          22        270        1         1      ...                  85   \n",
       "10          7         66        2         0      ...                  52   \n",
       "11         30        413        1         1      ...                  70   \n",
       "12         34        455        4         0      ...                  61   \n",
       "13         17        212        1         1      ...                  50   \n",
       "\n",
       "    Third Down Att  Third Down Conv  Fourth Down Att  Fourth Down Conv  \\\n",
       "0               13                2                3                 0   \n",
       "1               14                7                2                 0   \n",
       "2               15                6                0                 0   \n",
       "3               20                7                1                 1   \n",
       "4               18                3                3                 1   \n",
       "5               17                5                2                 1   \n",
       "6               17                5                3                 1   \n",
       "7               16                7                1                 1   \n",
       "8               17                6                2                 1   \n",
       "9               17                6                2                 2   \n",
       "10              17                5                6                 2   \n",
       "11              14                6                1                 1   \n",
       "12              18                8                1                 0   \n",
       "13              11                4                1                 0   \n",
       "\n",
       "    Red Zone Att  Red Zone TD  Red Zone Field Goal  Final score  Predict Score  \n",
       "0              2            1                    1           24      17.000000  \n",
       "1              5            2                    0           17      48.000000  \n",
       "2              4            3                    1           48      17.000000  \n",
       "3              2            0                    1           17      13.000000  \n",
       "4              5            1                    2           13      23.000000  \n",
       "5              5            3                    1           23       0.000000  \n",
       "6              0            0                    0            0      24.000000  \n",
       "7              4            3                    1           24      17.000000  \n",
       "8              3            1                    1           17      27.000000  \n",
       "9              6            2                    2           27      35.000000  \n",
       "10             5            3                    0           35      31.000000  \n",
       "11             3            3                    0           31      31.000000  \n",
       "12             2            2                    0           31      27.039334  \n",
       "13             5            3                    1           24      30.000000  \n",
       "\n",
       "[14 rows x 70 columns]"
      ]
     },
     "execution_count": 90,
     "metadata": {},
     "output_type": "execute_result"
    }
   ],
   "source": [
    "# Fill missing values with average\n",
    "\n",
    "game_stat['Predict Score']= game_stat['Predict Score'].fillna(game_stat['Predict Score'].mean())\n",
    "\n",
    "game_stat.head(n=14)"
   ]
  },
  {
   "cell_type": "code",
   "execution_count": 91,
   "metadata": {},
   "outputs": [],
   "source": [
    "#Rounding to whole number\n",
    "\n",
    "game_stat['Predict Score'] = np.round(game_stat['Predict Score'],decimals=0)"
   ]
  },
  {
   "cell_type": "code",
   "execution_count": 92,
   "metadata": {
    "scrolled": true
   },
   "outputs": [
    {
     "data": {
      "text/plain": [
       "Index(['Team Code', 'Game Code', 'Rush Att', 'Rush Yard', 'Rush TD',\n",
       "       'Pass Att', 'Pass Comp', 'Pass Yard', 'Pass TD', 'Pass Int',\n",
       "       'Pass Conv', 'Kickoff Ret', 'Kickoff Ret Yard', 'Kickoff Ret TD',\n",
       "       'Punt Ret', 'Punt Ret Yard', 'Punt Ret TD', 'Fum Ret', 'Fum Ret Yard',\n",
       "       'Fum Ret TD', 'Int Ret', 'Int Ret Yard', 'Int Ret TD', 'Misc Ret',\n",
       "       'Misc Ret Yard', 'Misc Ret TD', 'Field Goal Att', 'Field Goal Made',\n",
       "       'Off XP Kick Att', 'Off XP Kick Made', 'Off 2XP Att', 'Off 2XP Made',\n",
       "       'Def 2XP Att', 'Def 2XP Made', 'Safety', 'Points', 'Punt', 'Punt Yard',\n",
       "       'Kickoff', 'Kickoff Yard', 'Kickoff Touchback', 'Kickoff Out-Of-Bounds',\n",
       "       'Kickoff Onside', 'Fumble', 'Fumble Lost', 'Tackle Solo',\n",
       "       'Tackle Assist', 'Tackle For Loss', 'Tackle For Loss Yard', 'Sack',\n",
       "       'Sack Yard', 'QB Hurry', 'Fumble Forced', 'Pass Broken Up',\n",
       "       'Kick/Punt Blocked', '1st Down Rush', '1st Down Pass',\n",
       "       '1st Down Penalty', 'Time Of Possession', 'Penalty', 'Penalty Yard',\n",
       "       'Third Down Att', 'Third Down Conv', 'Fourth Down Att',\n",
       "       'Fourth Down Conv', 'Red Zone Att', 'Red Zone TD',\n",
       "       'Red Zone Field Goal', 'Final score', 'Predict Score'],\n",
       "      dtype='object')"
      ]
     },
     "execution_count": 92,
     "metadata": {},
     "output_type": "execute_result"
    }
   ],
   "source": [
    "game_stat.columns"
   ]
  },
  {
   "cell_type": "markdown",
   "metadata": {},
   "source": [
    "# Train Test Split"
   ]
  },
  {
   "cell_type": "code",
   "execution_count": 93,
   "metadata": {},
   "outputs": [],
   "source": [
    "x_data = game_stat.drop(['Predict Score','Team Code','Game Code','Points'],axis=1)\n",
    "y_true = game_stat['Predict Score']"
   ]
  },
  {
   "cell_type": "code",
   "execution_count": 94,
   "metadata": {},
   "outputs": [],
   "source": [
    "from sklearn.model_selection import train_test_split"
   ]
  },
  {
   "cell_type": "code",
   "execution_count": 95,
   "metadata": {},
   "outputs": [],
   "source": [
    "x_train, x_test, y_train, y_test = train_test_split(x_data, y_true, test_size=0.3, random_state=101)"
   ]
  },
  {
   "cell_type": "markdown",
   "metadata": {},
   "source": [
    "# Scaling"
   ]
  },
  {
   "cell_type": "code",
   "execution_count": 96,
   "metadata": {},
   "outputs": [],
   "source": [
    "from sklearn.preprocessing import MinMaxScaler"
   ]
  },
  {
   "cell_type": "code",
   "execution_count": 97,
   "metadata": {},
   "outputs": [],
   "source": [
    "scaler = MinMaxScaler()"
   ]
  },
  {
   "cell_type": "code",
   "execution_count": 98,
   "metadata": {},
   "outputs": [
    {
     "name": "stderr",
     "output_type": "stream",
     "text": [
      "/Users/jonathanhampton/.conda/envs/tfdeeplearning/lib/python3.5/site-packages/sklearn/preprocessing/data.py:323: DataConversionWarning: Data with input dtype int64, float64 were all converted to float64 by MinMaxScaler.\n",
      "  return self.partial_fit(X, y)\n"
     ]
    },
    {
     "data": {
      "text/plain": [
       "MinMaxScaler(copy=True, feature_range=(0, 1))"
      ]
     },
     "execution_count": 98,
     "metadata": {},
     "output_type": "execute_result"
    }
   ],
   "source": [
    "scaler.fit(x_train)\n"
   ]
  },
  {
   "cell_type": "code",
   "execution_count": 99,
   "metadata": {},
   "outputs": [],
   "source": [
    "x_train = pd.DataFrame(data=scaler.transform(x_train),columns = x_train.columns,index=x_train.index)"
   ]
  },
  {
   "cell_type": "code",
   "execution_count": 100,
   "metadata": {},
   "outputs": [],
   "source": [
    "x_test = pd.DataFrame(data=scaler.transform(x_test),columns = x_test.columns,index=x_test.index)"
   ]
  },
  {
   "cell_type": "code",
   "execution_count": 101,
   "metadata": {},
   "outputs": [
    {
     "data": {
      "text/html": [
       "<div>\n",
       "<style scoped>\n",
       "    .dataframe tbody tr th:only-of-type {\n",
       "        vertical-align: middle;\n",
       "    }\n",
       "\n",
       "    .dataframe tbody tr th {\n",
       "        vertical-align: top;\n",
       "    }\n",
       "\n",
       "    .dataframe thead th {\n",
       "        text-align: right;\n",
       "    }\n",
       "</style>\n",
       "<table border=\"1\" class=\"dataframe\">\n",
       "  <thead>\n",
       "    <tr style=\"text-align: right;\">\n",
       "      <th></th>\n",
       "      <th>Rush Att</th>\n",
       "      <th>Rush Yard</th>\n",
       "      <th>Rush TD</th>\n",
       "      <th>Pass Att</th>\n",
       "      <th>Pass Comp</th>\n",
       "      <th>Pass Yard</th>\n",
       "      <th>Pass TD</th>\n",
       "      <th>Pass Int</th>\n",
       "      <th>Pass Conv</th>\n",
       "      <th>Kickoff Ret</th>\n",
       "      <th>...</th>\n",
       "      <th>Penalty</th>\n",
       "      <th>Penalty Yard</th>\n",
       "      <th>Third Down Att</th>\n",
       "      <th>Third Down Conv</th>\n",
       "      <th>Fourth Down Att</th>\n",
       "      <th>Fourth Down Conv</th>\n",
       "      <th>Red Zone Att</th>\n",
       "      <th>Red Zone TD</th>\n",
       "      <th>Red Zone Field Goal</th>\n",
       "      <th>Final score</th>\n",
       "    </tr>\n",
       "  </thead>\n",
       "  <tbody>\n",
       "    <tr>\n",
       "      <th>1137</th>\n",
       "      <td>0.552632</td>\n",
       "      <td>0.721557</td>\n",
       "      <td>0.666667</td>\n",
       "      <td>0.220779</td>\n",
       "      <td>0.232143</td>\n",
       "      <td>0.261905</td>\n",
       "      <td>0.333333</td>\n",
       "      <td>0.142857</td>\n",
       "      <td>0.0</td>\n",
       "      <td>0.076923</td>\n",
       "      <td>...</td>\n",
       "      <td>0.35</td>\n",
       "      <td>0.294118</td>\n",
       "      <td>0.260870</td>\n",
       "      <td>0.3750</td>\n",
       "      <td>0.111111</td>\n",
       "      <td>0.142857</td>\n",
       "      <td>0.636364</td>\n",
       "      <td>0.7</td>\n",
       "      <td>0.0</td>\n",
       "      <td>0.714286</td>\n",
       "    </tr>\n",
       "    <tr>\n",
       "      <th>6187</th>\n",
       "      <td>0.289474</td>\n",
       "      <td>0.223054</td>\n",
       "      <td>0.111111</td>\n",
       "      <td>0.415584</td>\n",
       "      <td>0.339286</td>\n",
       "      <td>0.269345</td>\n",
       "      <td>0.000000</td>\n",
       "      <td>0.000000</td>\n",
       "      <td>0.0</td>\n",
       "      <td>0.461538</td>\n",
       "      <td>...</td>\n",
       "      <td>0.50</td>\n",
       "      <td>0.561497</td>\n",
       "      <td>0.478261</td>\n",
       "      <td>0.2500</td>\n",
       "      <td>0.333333</td>\n",
       "      <td>0.142857</td>\n",
       "      <td>0.272727</td>\n",
       "      <td>0.1</td>\n",
       "      <td>0.0</td>\n",
       "      <td>0.083333</td>\n",
       "    </tr>\n",
       "    <tr>\n",
       "      <th>8945</th>\n",
       "      <td>0.328947</td>\n",
       "      <td>0.275449</td>\n",
       "      <td>0.111111</td>\n",
       "      <td>0.467532</td>\n",
       "      <td>0.321429</td>\n",
       "      <td>0.205357</td>\n",
       "      <td>0.000000</td>\n",
       "      <td>0.142857</td>\n",
       "      <td>0.0</td>\n",
       "      <td>0.538462</td>\n",
       "      <td>...</td>\n",
       "      <td>0.25</td>\n",
       "      <td>0.245989</td>\n",
       "      <td>0.521739</td>\n",
       "      <td>0.2500</td>\n",
       "      <td>0.666667</td>\n",
       "      <td>0.285714</td>\n",
       "      <td>0.090909</td>\n",
       "      <td>0.1</td>\n",
       "      <td>0.0</td>\n",
       "      <td>0.083333</td>\n",
       "    </tr>\n",
       "    <tr>\n",
       "      <th>2169</th>\n",
       "      <td>0.236842</td>\n",
       "      <td>0.203593</td>\n",
       "      <td>0.000000</td>\n",
       "      <td>0.376623</td>\n",
       "      <td>0.232143</td>\n",
       "      <td>0.138393</td>\n",
       "      <td>0.111111</td>\n",
       "      <td>0.428571</td>\n",
       "      <td>0.0</td>\n",
       "      <td>0.384615</td>\n",
       "      <td>...</td>\n",
       "      <td>0.15</td>\n",
       "      <td>0.171123</td>\n",
       "      <td>0.434783</td>\n",
       "      <td>0.1875</td>\n",
       "      <td>0.111111</td>\n",
       "      <td>0.142857</td>\n",
       "      <td>0.000000</td>\n",
       "      <td>0.0</td>\n",
       "      <td>0.0</td>\n",
       "      <td>0.083333</td>\n",
       "    </tr>\n",
       "    <tr>\n",
       "      <th>3457</th>\n",
       "      <td>0.250000</td>\n",
       "      <td>0.239521</td>\n",
       "      <td>0.333333</td>\n",
       "      <td>0.506494</td>\n",
       "      <td>0.517857</td>\n",
       "      <td>0.593750</td>\n",
       "      <td>0.333333</td>\n",
       "      <td>0.000000</td>\n",
       "      <td>0.0</td>\n",
       "      <td>0.230769</td>\n",
       "      <td>...</td>\n",
       "      <td>0.60</td>\n",
       "      <td>0.518717</td>\n",
       "      <td>0.260870</td>\n",
       "      <td>0.3125</td>\n",
       "      <td>0.333333</td>\n",
       "      <td>0.142857</td>\n",
       "      <td>0.454545</td>\n",
       "      <td>0.5</td>\n",
       "      <td>0.0</td>\n",
       "      <td>0.583333</td>\n",
       "    </tr>\n",
       "  </tbody>\n",
       "</table>\n",
       "<p>5 rows × 66 columns</p>\n",
       "</div>"
      ],
      "text/plain": [
       "      Rush Att  Rush Yard   Rush TD  Pass Att  Pass Comp  Pass Yard   Pass TD  \\\n",
       "1137  0.552632   0.721557  0.666667  0.220779   0.232143   0.261905  0.333333   \n",
       "6187  0.289474   0.223054  0.111111  0.415584   0.339286   0.269345  0.000000   \n",
       "8945  0.328947   0.275449  0.111111  0.467532   0.321429   0.205357  0.000000   \n",
       "2169  0.236842   0.203593  0.000000  0.376623   0.232143   0.138393  0.111111   \n",
       "3457  0.250000   0.239521  0.333333  0.506494   0.517857   0.593750  0.333333   \n",
       "\n",
       "      Pass Int  Pass Conv  Kickoff Ret     ...       Penalty  Penalty Yard  \\\n",
       "1137  0.142857        0.0     0.076923     ...          0.35      0.294118   \n",
       "6187  0.000000        0.0     0.461538     ...          0.50      0.561497   \n",
       "8945  0.142857        0.0     0.538462     ...          0.25      0.245989   \n",
       "2169  0.428571        0.0     0.384615     ...          0.15      0.171123   \n",
       "3457  0.000000        0.0     0.230769     ...          0.60      0.518717   \n",
       "\n",
       "      Third Down Att  Third Down Conv  Fourth Down Att  Fourth Down Conv  \\\n",
       "1137        0.260870           0.3750         0.111111          0.142857   \n",
       "6187        0.478261           0.2500         0.333333          0.142857   \n",
       "8945        0.521739           0.2500         0.666667          0.285714   \n",
       "2169        0.434783           0.1875         0.111111          0.142857   \n",
       "3457        0.260870           0.3125         0.333333          0.142857   \n",
       "\n",
       "      Red Zone Att  Red Zone TD  Red Zone Field Goal  Final score  \n",
       "1137      0.636364          0.7                  0.0     0.714286  \n",
       "6187      0.272727          0.1                  0.0     0.083333  \n",
       "8945      0.090909          0.1                  0.0     0.083333  \n",
       "2169      0.000000          0.0                  0.0     0.083333  \n",
       "3457      0.454545          0.5                  0.0     0.583333  \n",
       "\n",
       "[5 rows x 66 columns]"
      ]
     },
     "execution_count": 101,
     "metadata": {},
     "output_type": "execute_result"
    }
   ],
   "source": [
    "x_train.head()"
   ]
  },
  {
   "cell_type": "markdown",
   "metadata": {},
   "source": [
    "# Linear Regression"
   ]
  },
  {
   "cell_type": "code",
   "execution_count": 102,
   "metadata": {},
   "outputs": [],
   "source": [
    "from sklearn.linear_model import LinearRegression"
   ]
  },
  {
   "cell_type": "code",
   "execution_count": 103,
   "metadata": {},
   "outputs": [],
   "source": [
    "lin_reg = LinearRegression()"
   ]
  },
  {
   "cell_type": "code",
   "execution_count": 104,
   "metadata": {},
   "outputs": [
    {
     "data": {
      "text/plain": [
       "LinearRegression(copy_X=True, fit_intercept=True, n_jobs=None,\n",
       "         normalize=False)"
      ]
     },
     "execution_count": 104,
     "metadata": {},
     "output_type": "execute_result"
    }
   ],
   "source": [
    "lin_reg.fit(x_train,y_train)"
   ]
  },
  {
   "cell_type": "code",
   "execution_count": 105,
   "metadata": {},
   "outputs": [],
   "source": [
    "y_preds_LR = lin_reg.predict(x_test)"
   ]
  },
  {
   "cell_type": "code",
   "execution_count": 106,
   "metadata": {},
   "outputs": [],
   "source": [
    "from sklearn.metrics import mean_squared_error"
   ]
  },
  {
   "cell_type": "markdown",
   "metadata": {},
   "source": [
    "# Linear Regression Performance"
   ]
  },
  {
   "cell_type": "code",
   "execution_count": 107,
   "metadata": {},
   "outputs": [
    {
     "data": {
      "text/plain": [
       "12.992119365927708"
      ]
     },
     "execution_count": 107,
     "metadata": {},
     "output_type": "execute_result"
    }
   ],
   "source": [
    "LR_error = mean_squared_error(y_test,y_preds_LR)**0.5\n",
    "LR_error"
   ]
  },
  {
   "cell_type": "code",
   "execution_count": 108,
   "metadata": {
    "scrolled": true
   },
   "outputs": [
    {
     "data": {
      "image/png": "[encoded data removed]",
      "text/plain": [
       "<Figure size 432x288 with 1 Axes>"
      ]
     },
     "metadata": {
      "needs_background": "light"
     },
     "output_type": "display_data"
    }
   ],
   "source": [
    "import matplotlib.pyplot as plt\n",
    "% matplotlib inline\n",
    "_, ax = plt.subplots()\n",
    "\n",
    "ax.scatter(x = range(0, y_test.size), y=y_test, c = 'blue', label = 'Actual', alpha = 0.3)\n",
    "ax.scatter(x = range(0, y_preds_LR.size), y=y_preds_LR, c = 'red', label = 'Predicted', alpha = 0.3)\n",
    "\n",
    "plt.title('Actual and predicted values')\n",
    "plt.xlabel('Games')\n",
    "plt.ylabel('Scores')\n",
    "plt.legend()\n",
    "plt.show()"
   ]
  },
  {
   "cell_type": "code",
   "execution_count": 109,
   "metadata": {},
   "outputs": [
    {
     "data": {
      "text/plain": [
       "Text(0, 0.5, 'Frequency')"
      ]
     },
     "execution_count": 109,
     "metadata": {},
     "output_type": "execute_result"
    },
    {
     "data": {
      "image/png": "[encoded data removed]",
      "text/plain": [
       "<Figure size 432x288 with 1 Axes>"
      ]
     },
     "metadata": {
      "needs_background": "light"
     },
     "output_type": "display_data"
    }
   ],
   "source": [
    "diff = y_test - y_preds_LR\n",
    "diff.hist(bins = 20)\n",
    "plt.title('Histogram of prediction errors')\n",
    "plt.xlabel('Score prediction error')\n",
    "plt.ylabel('Frequency')"
   ]
  },
  {
   "cell_type": "markdown",
   "metadata": {},
   "source": [
    "# Logistic Regression"
   ]
  },
  {
   "cell_type": "code",
   "execution_count": 110,
   "metadata": {},
   "outputs": [],
   "source": [
    "from sklearn.linear_model import LogisticRegression"
   ]
  },
  {
   "cell_type": "code",
   "execution_count": 111,
   "metadata": {},
   "outputs": [],
   "source": [
    "log_reg = LogisticRegression(random_state=101)"
   ]
  },
  {
   "cell_type": "code",
   "execution_count": 112,
   "metadata": {},
   "outputs": [
    {
     "name": "stderr",
     "output_type": "stream",
     "text": [
      "/Users/jonathanhampton/.conda/envs/tfdeeplearning/lib/python3.5/site-packages/sklearn/linear_model/logistic.py:432: FutureWarning: Default solver will be changed to 'lbfgs' in 0.22. Specify a solver to silence this warning.\n",
      "  FutureWarning)\n",
      "/Users/jonathanhampton/.conda/envs/tfdeeplearning/lib/python3.5/site-packages/sklearn/linear_model/logistic.py:459: FutureWarning: Default multi_class will be changed to 'auto' in 0.22. Specify the multi_class option to silence this warning.\n",
      "  \"this warning.\", FutureWarning)\n"
     ]
    },
    {
     "data": {
      "text/plain": [
       "LogisticRegression(C=1.0, class_weight=None, dual=False, fit_intercept=True,\n",
       "          intercept_scaling=1, max_iter=100, multi_class='warn',\n",
       "          n_jobs=None, penalty='l2', random_state=101, solver='warn',\n",
       "          tol=0.0001, verbose=0, warm_start=False)"
      ]
     },
     "execution_count": 112,
     "metadata": {},
     "output_type": "execute_result"
    }
   ],
   "source": [
    "log_reg.fit(x_train,y_train)"
   ]
  },
  {
   "cell_type": "markdown",
   "metadata": {},
   "source": [
    "# Logistic Regression Performance"
   ]
  },
  {
   "cell_type": "code",
   "execution_count": 113,
   "metadata": {},
   "outputs": [],
   "source": [
    "y_preds_log_reg = log_reg.predict(x_test)"
   ]
  },
  {
   "cell_type": "code",
   "execution_count": 114,
   "metadata": {},
   "outputs": [
    {
     "data": {
      "text/plain": [
       "13.566231072888762"
      ]
     },
     "execution_count": 114,
     "metadata": {},
     "output_type": "execute_result"
    }
   ],
   "source": [
    "mean_squared_error(y_test,y_preds_log_reg)**0.5"
   ]
  },
  {
   "cell_type": "code",
   "execution_count": 115,
   "metadata": {},
   "outputs": [
    {
     "data": {
      "image/png": "[encoded data removed]",
      "text/plain": [
       "<Figure size 432x288 with 1 Axes>"
      ]
     },
     "metadata": {
      "needs_background": "light"
     },
     "output_type": "display_data"
    }
   ],
   "source": [
    "_, ax = plt.subplots()\n",
    "\n",
    "ax.scatter(x = range(0, y_test.size), y=y_test, c = 'blue', label = 'Actual', alpha = 0.3)\n",
    "ax.scatter(x = range(0, y_preds_log_reg.size), y=y_preds_log_reg, c = 'red', label = 'Predicted', alpha = 0.3)\n",
    "\n",
    "plt.title('Actual and predicted values')\n",
    "plt.xlabel('Games')\n",
    "plt.ylabel('Scores')\n",
    "plt.legend()\n",
    "plt.show()"
   ]
  },
  {
   "cell_type": "code",
   "execution_count": 116,
   "metadata": {},
   "outputs": [
    {
     "data": {
      "text/plain": [
       "Text(0, 0.5, 'Frequency')"
      ]
     },
     "execution_count": 116,
     "metadata": {},
     "output_type": "execute_result"
    },
    {
     "data": {
      "image/png": "[encoded data removed]",
      "text/plain": [
       "<Figure size 432x288 with 1 Axes>"
      ]
     },
     "metadata": {
      "needs_background": "light"
     },
     "output_type": "display_data"
    }
   ],
   "source": [
    "diff = y_test - y_preds_log_reg\n",
    "diff.hist(bins = 20)\n",
    "plt.title('Histogram of prediction errors')\n",
    "plt.xlabel('Score prediction error')\n",
    "plt.ylabel('Frequency')"
   ]
  },
  {
   "cell_type": "markdown",
   "metadata": {},
   "source": [
    "# Logistic Regression w/ Different Solver\n",
    "\n",
    "<b> >> The 'liblinear' is known to have better results on smaller data sets. Lets see how it performs... </b>"
   ]
  },
  {
   "cell_type": "code",
   "execution_count": 117,
   "metadata": {},
   "outputs": [],
   "source": [
    "lr_2 = LogisticRegression(random_state=101, solver='liblinear')"
   ]
  },
  {
   "cell_type": "code",
   "execution_count": 118,
   "metadata": {},
   "outputs": [
    {
     "name": "stderr",
     "output_type": "stream",
     "text": [
      "/Users/jonathanhampton/.conda/envs/tfdeeplearning/lib/python3.5/site-packages/sklearn/linear_model/logistic.py:459: FutureWarning: Default multi_class will be changed to 'auto' in 0.22. Specify the multi_class option to silence this warning.\n",
      "  \"this warning.\", FutureWarning)\n"
     ]
    },
    {
     "data": {
      "text/plain": [
       "LogisticRegression(C=1.0, class_weight=None, dual=False, fit_intercept=True,\n",
       "          intercept_scaling=1, max_iter=100, multi_class='warn',\n",
       "          n_jobs=None, penalty='l2', random_state=101, solver='liblinear',\n",
       "          tol=0.0001, verbose=0, warm_start=False)"
      ]
     },
     "execution_count": 118,
     "metadata": {},
     "output_type": "execute_result"
    }
   ],
   "source": [
    "lr_2.fit(x_train,y_train)"
   ]
  },
  {
   "cell_type": "code",
   "execution_count": 119,
   "metadata": {},
   "outputs": [],
   "source": [
    "y_preds_lr_2 = lr_2.predict(x_test)"
   ]
  },
  {
   "cell_type": "markdown",
   "metadata": {},
   "source": [
    "# Performance"
   ]
  },
  {
   "cell_type": "code",
   "execution_count": 120,
   "metadata": {},
   "outputs": [
    {
     "data": {
      "text/plain": [
       "13.566231072888762"
      ]
     },
     "execution_count": 120,
     "metadata": {},
     "output_type": "execute_result"
    }
   ],
   "source": [
    "logreg_error = mean_squared_error(y_test,y_preds_lr_2)**0.5\n",
    "logreg_error"
   ]
  },
  {
   "cell_type": "markdown",
   "metadata": {},
   "source": [
    "<b> No performance improvements... </b>"
   ]
  },
  {
   "cell_type": "markdown",
   "metadata": {},
   "source": [
    "# K Nearest Neighbors"
   ]
  },
  {
   "cell_type": "code",
   "execution_count": 121,
   "metadata": {},
   "outputs": [],
   "source": [
    "from sklearn.neighbors import KNeighborsRegressor"
   ]
  },
  {
   "cell_type": "code",
   "execution_count": 122,
   "metadata": {},
   "outputs": [],
   "source": [
    "k_neigh = KNeighborsRegressor()"
   ]
  },
  {
   "cell_type": "code",
   "execution_count": 123,
   "metadata": {},
   "outputs": [
    {
     "data": {
      "text/plain": [
       "KNeighborsRegressor(algorithm='auto', leaf_size=30, metric='minkowski',\n",
       "          metric_params=None, n_jobs=None, n_neighbors=5, p=2,\n",
       "          weights='uniform')"
      ]
     },
     "execution_count": 123,
     "metadata": {},
     "output_type": "execute_result"
    }
   ],
   "source": [
    "k_neigh.fit(x_train,y_train)"
   ]
  },
  {
   "cell_type": "code",
   "execution_count": 124,
   "metadata": {},
   "outputs": [],
   "source": [
    "y_preds_knn = k_neigh.predict(x_test)"
   ]
  },
  {
   "cell_type": "markdown",
   "metadata": {},
   "source": [
    "# Performance"
   ]
  },
  {
   "cell_type": "code",
   "execution_count": 125,
   "metadata": {},
   "outputs": [
    {
     "data": {
      "text/plain": [
       "14.187614670614684"
      ]
     },
     "execution_count": 125,
     "metadata": {},
     "output_type": "execute_result"
    }
   ],
   "source": [
    "mean_squared_error(y_test,y_preds_knn)**0.5"
   ]
  },
  {
   "cell_type": "code",
   "execution_count": 126,
   "metadata": {},
   "outputs": [
    {
     "data": {
      "image/png": "[encoded data removed]",
      "text/plain": [
       "<Figure size 432x288 with 1 Axes>"
      ]
     },
     "metadata": {
      "needs_background": "light"
     },
     "output_type": "display_data"
    }
   ],
   "source": [
    "_, ax = plt.subplots()\n",
    "\n",
    "ax.scatter(x = range(0, y_test.size), y=y_test, c = 'blue', label = 'Actual', alpha = 0.3)\n",
    "ax.scatter(x = range(0, y_preds_knn.size), y=y_preds_knn, c = 'red', label = 'Predicted', alpha = 0.3)\n",
    "\n",
    "plt.title('Actual and predicted values')\n",
    "plt.xlabel('Games')\n",
    "plt.ylabel('Scores')\n",
    "plt.legend()\n",
    "plt.show()"
   ]
  },
  {
   "cell_type": "code",
   "execution_count": 127,
   "metadata": {},
   "outputs": [
    {
     "data": {
      "text/plain": [
       "Text(0, 0.5, 'Frequency')"
      ]
     },
     "execution_count": 127,
     "metadata": {},
     "output_type": "execute_result"
    },
    {
     "data": {
      "image/png": "[encoded data removed]",
      "text/plain": [
       "<Figure size 432x288 with 1 Axes>"
      ]
     },
     "metadata": {
      "needs_background": "light"
     },
     "output_type": "display_data"
    }
   ],
   "source": [
    "diff = y_test - y_preds_knn\n",
    "diff.hist(bins = 20)\n",
    "plt.title('Histogram of prediction errors')\n",
    "plt.xlabel('Score prediction error')\n",
    "plt.ylabel('Frequency')"
   ]
  },
  {
   "cell_type": "markdown",
   "metadata": {},
   "source": [
    "# kNN w/ different number of neighbors"
   ]
  },
  {
   "cell_type": "code",
   "execution_count": 128,
   "metadata": {},
   "outputs": [],
   "source": [
    "k_neigh_2 = KNeighborsRegressor(n_neighbors=2)"
   ]
  },
  {
   "cell_type": "code",
   "execution_count": 129,
   "metadata": {},
   "outputs": [
    {
     "data": {
      "text/plain": [
       "KNeighborsRegressor(algorithm='auto', leaf_size=30, metric='minkowski',\n",
       "          metric_params=None, n_jobs=None, n_neighbors=2, p=2,\n",
       "          weights='uniform')"
      ]
     },
     "execution_count": 129,
     "metadata": {},
     "output_type": "execute_result"
    }
   ],
   "source": [
    "k_neigh_2.fit(x_train,y_train)"
   ]
  },
  {
   "cell_type": "code",
   "execution_count": 130,
   "metadata": {},
   "outputs": [],
   "source": [
    "y_preds_knn_2 = k_neigh_2.predict(x_test)"
   ]
  },
  {
   "cell_type": "code",
   "execution_count": 131,
   "metadata": {},
   "outputs": [
    {
     "data": {
      "text/plain": [
       "15.835250700540044"
      ]
     },
     "execution_count": 131,
     "metadata": {},
     "output_type": "execute_result"
    }
   ],
   "source": [
    "mean_squared_error(y_test,y_preds_knn_2)**0.5"
   ]
  },
  {
   "cell_type": "markdown",
   "metadata": {},
   "source": [
    "<b> The performance is worse with less neighbors. Lets try with more neighbors. <b/>"
   ]
  },
  {
   "cell_type": "code",
   "execution_count": 132,
   "metadata": {},
   "outputs": [],
   "source": [
    "k_neigh_3 = KNeighborsRegressor(n_neighbors=150)"
   ]
  },
  {
   "cell_type": "code",
   "execution_count": 133,
   "metadata": {},
   "outputs": [
    {
     "data": {
      "text/plain": [
       "KNeighborsRegressor(algorithm='auto', leaf_size=30, metric='minkowski',\n",
       "          metric_params=None, n_jobs=None, n_neighbors=150, p=2,\n",
       "          weights='uniform')"
      ]
     },
     "execution_count": 133,
     "metadata": {},
     "output_type": "execute_result"
    }
   ],
   "source": [
    "k_neigh_3.fit(x_train,y_train)"
   ]
  },
  {
   "cell_type": "code",
   "execution_count": 134,
   "metadata": {},
   "outputs": [],
   "source": [
    "y_preds_knn_3 = k_neigh_3.predict(x_test)"
   ]
  },
  {
   "cell_type": "code",
   "execution_count": 135,
   "metadata": {},
   "outputs": [],
   "source": [
    "knn_error = mean_squared_error(y_test,y_preds_knn_3)**0.5"
   ]
  },
  {
   "cell_type": "code",
   "execution_count": 136,
   "metadata": {},
   "outputs": [
    {
     "data": {
      "image/png": "[encoded data removed]",
      "text/plain": [
       "<Figure size 432x288 with 1 Axes>"
      ]
     },
     "metadata": {
      "needs_background": "light"
     },
     "output_type": "display_data"
    }
   ],
   "source": [
    "_, ax = plt.subplots()\n",
    "\n",
    "ax.scatter(x = range(0, y_test.size), y=y_test, c = 'blue', label = 'Actual', alpha = 0.3)\n",
    "ax.scatter(x = range(0, y_preds_knn_3.size), y=y_preds_knn_3, c = 'red', label = 'Predicted', alpha = 0.3)\n",
    "\n",
    "plt.title('Actual and predicted values')\n",
    "plt.xlabel('Games')\n",
    "plt.ylabel('Scores')\n",
    "plt.legend()\n",
    "plt.show()"
   ]
  },
  {
   "cell_type": "code",
   "execution_count": 137,
   "metadata": {},
   "outputs": [
    {
     "data": {
      "text/plain": [
       "Text(0, 0.5, 'Frequency')"
      ]
     },
     "execution_count": 137,
     "metadata": {},
     "output_type": "execute_result"
    },
    {
     "data": {
      "image/png": "[encoded data removed]",
      "text/plain": [
       "<Figure size 432x288 with 1 Axes>"
      ]
     },
     "metadata": {
      "needs_background": "light"
     },
     "output_type": "display_data"
    }
   ],
   "source": [
    "diff = y_test - y_preds_knn_3\n",
    "diff.hist(bins = 20)\n",
    "plt.title('Histogram of prediction errors')\n",
    "plt.xlabel('Score prediction error')\n",
    "plt.ylabel('Frequency')"
   ]
  },
  {
   "cell_type": "markdown",
   "metadata": {},
   "source": [
    "# Summary of Performances"
   ]
  },
  {
   "cell_type": "code",
   "execution_count": 155,
   "metadata": {},
   "outputs": [
    {
     "data": {
      "image/png": "[encoded data removed]",
      "text/plain": [
       "<Figure size 432x288 with 1 Axes>"
      ]
     },
     "metadata": {
      "needs_background": "light"
     },
     "output_type": "display_data"
    }
   ],
   "source": [
    "objects = ('Linear Regression', 'Logistic Regression', 'K-Nearest Neighbors')\n",
    "y_pos = np.arange(len(objects))\n",
    "performance = [LR_error,logreg_error,knn_error]\n",
    "\n",
    "plt.bar(y_pos, performance, align='center', alpha=0.9,)\n",
    "plt.xticks(y_pos, objects)\n",
    "plt.xlabel('Models')\n",
    "plt.ylabel('Error (points)')\n",
    "plt.title('Model Error')\n",
    "plt.ylim(LR_error-.1,logreg_error+.1)\n",
    "plt.show()"
   ]
  },
  {
   "cell_type": "code",
   "execution_count": null,
   "metadata": {},
   "outputs": [],
   "source": []
  }
 ],
 "metadata": {
  "kernelspec": {
   "display_name": "Python 3",
   "language": "python",
   "name": "python3"
  },
  "language_info": {
   "codemirror_mode": {
    "name": "ipython",
    "version": 3
   },
   "file_extension": ".py",
   "mimetype": "text/x-python",
   "name": "python",
   "nbconvert_exporter": "python",
   "pygments_lexer": "ipython3",
   "version": "3.5.6"
  }
 },
 "nbformat": 4,
 "nbformat_minor": 2
}
